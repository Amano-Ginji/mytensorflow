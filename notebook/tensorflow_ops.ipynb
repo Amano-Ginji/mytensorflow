{
 "cells": [
  {
   "cell_type": "code",
   "execution_count": 31,
   "metadata": {
    "collapsed": false,
    "scrolled": false
   },
   "outputs": [
    {
     "data": {
      "text/plain": [
       "8"
      ]
     },
     "execution_count": 31,
     "metadata": {},
     "output_type": "execute_result"
    }
   ],
   "source": [
    "import tensorflow as tf\n",
    "\n",
    "a = tf.constant(3)\n",
    "b = tf.constant(5)\n",
    "\n",
    "sess = tf.Session()\n",
    "\n",
    "sess.run(a+b)\n"
   ]
  },
  {
   "cell_type": "code",
   "execution_count": 32,
   "metadata": {
    "collapsed": false
   },
   "outputs": [
    {
     "ename": "SyntaxError",
     "evalue": "invalid syntax (<ipython-input-32-a1ca13d2f25e>, line 12)",
     "output_type": "error",
     "traceback": [
      "\u001b[0;36m  File \u001b[0;32m\"<ipython-input-32-a1ca13d2f25e>\"\u001b[0;36m, line \u001b[0;32m12\u001b[0m\n\u001b[0;31m    print(sess.run(tf.matadd(aa,bb))\u001b[0m\n\u001b[0m                                    ^\u001b[0m\n\u001b[0;31mSyntaxError\u001b[0m\u001b[0;31m:\u001b[0m invalid syntax\n"
     ]
    }
   ],
   "source": [
    "import tensorflow as tf\n",
    "\n",
    "aa = tf.Variable([1,2,3])\n",
    "ba = tf.Variable([3,5,8])\n",
    "\n",
    "init_op = tf.global_variables_initializer()\n",
    "\n",
    "with tf.Session() as sess:\n",
    "    sess.run(init_op)\n",
    "    print(aa.eval(sess))\n",
    "    print(aa.eval())  # use default session 'sess'\n",
    "    print(sess.run(tf.matadd(aa,bb))"
   ]
  },
  {
   "cell_type": "code",
   "execution_count": 38,
   "metadata": {
    "collapsed": false
   },
   "outputs": [
    {
     "name": "stdout",
     "output_type": "stream",
     "text": [
      "[19 18]\n",
      "1\n",
      "0\n",
      "[[2 0 2 4 6]\n",
      " [4 2 0 2 4]\n",
      " [5 3 1 1 3]\n",
      " [7 5 3 1 1]\n",
      " [0 2 4 6 8]]\n",
      "[14 12 13 17 20]\n"
     ]
    }
   ],
   "source": [
    "import numpy as np\n",
    "\n",
    "x1 = [[1,3,5,7,9],[2,8,6,3,1]]\n",
    "x2 = [[2,8,6,3,1],[1,3,5,7,8]]\n",
    "dist = tf.reduce_sum(tf.abs(tf.add(x1,tf.neg(x2))), reduction_indices=1)\n",
    "idx_min = tf.arg_min(dist, 0)\n",
    "idx_max = tf.arg_max(dist, 0)\n",
    "\n",
    "x3 = [1,3,5,7,9]\n",
    "x4 = [[3],[5],[6],[8],[1]]\n",
    "mtx = tf.abs(tf.add(x3,tf.neg(x4)))\n",
    "dist2 = tf.reduce_sum(tf.abs(tf.add(x3,tf.neg(x4))), reduction_indices=1)\n",
    "\n",
    "sess = tf.Session()\n",
    "\n",
    "print(sess.run(dist))\n",
    "print(sess.run(idx_min))\n",
    "print(sess.run(idx_max))\n",
    "print(sess.run(mtx))\n",
    "print(sess.run(dist2))\n"
   ]
  },
  {
   "cell_type": "code",
   "execution_count": 55,
   "metadata": {
    "collapsed": false
   },
   "outputs": [
    {
     "name": "stdout",
     "output_type": "stream",
     "text": [
      "Tensor(\"random_normal_12:0\", shape=(1,), dtype=float32)\n",
      "[ 0.8677606]\n",
      "[ 5.12616348]\n"
     ]
    }
   ],
   "source": [
    "import tensorflow as tf\n",
    "\n",
    "a = tf.placeholder(tf.float32)\n",
    "b = tf.placeholder(tf.float32)\n",
    "\n",
    "w = tf.random_normal([1], mean=1, stddev=0.1)\n",
    "print w\n",
    "\n",
    "c = tf.add(tf.mul(a, w), b)\n",
    "\n",
    "with tf.Session() as sess:\n",
    "    print sess.run(w)\n",
    "    print sess.run(c, feed_dict={a:2, b:3})\n"
   ]
  },
  {
   "cell_type": "code",
   "execution_count": 83,
   "metadata": {
    "collapsed": false
   },
   "outputs": [
    {
     "name": "stdout",
     "output_type": "stream",
     "text": [
      "(2, 2, 3)\n",
      "Tensor(\"transpose_21:0\", shape=(3, 2, 2), dtype=int64)\n",
      "(3, 2, 2)\n",
      "Tensor(\"Reshape_22:0\", shape=(4, 3), dtype=int64)\n",
      "Tensor(\"Reshape_23:0\", shape=(?, ?, 3), dtype=int64)\n",
      "Tensor(\"Reshape_24:0\", shape=(4, 1, 3), dtype=int64)\n",
      "Tensor(\"Reshape_25:0\", shape=(6, 2), dtype=int64)\n",
      "(6, 2)\n",
      "Reshape_25:0\n",
      "Tensor(\"Reshape_26:0\", shape=(2, 6), dtype=int64)\n"
     ]
    }
   ],
   "source": [
    "import tensorflow as tf\n",
    "import numpy as np\n",
    "import pandas as pd\n",
    "\n",
    "x = np.array([[[1,2,3],[4,5,6]],[[7,8,9],[10,11,12]]])\n",
    "print x.shape\n",
    "\n",
    "y = tf.transpose(x, [2,1,0])\n",
    "print y\n",
    "print y.get_shape()\n",
    "\n",
    "y1 = tf.reshape(y, [-1,y.get_shape().as_list()[0]])\n",
    "print y1\n",
    "\n",
    "y1 = tf.reshape(y, [-1,-1,y.get_shape().as_list()[0]])\n",
    "print y1\n",
    "\n",
    "y1 = tf.reshape(y, [-1,1,y.get_shape().as_list()[0]])\n",
    "print y1\n",
    "\n",
    "z = tf.reshape(y, [-1, 2])\n",
    "print z\n",
    "print z.get_shape()\n",
    "print z.name\n",
    "\n",
    "z1 = tf.reshape(z, [-1,z.get_shape().as_list()[0]])\n",
    "print z1\n"
   ]
  },
  {
   "cell_type": "code",
   "execution_count": 5,
   "metadata": {
    "collapsed": false
   },
   "outputs": [
    {
     "name": "stdout",
     "output_type": "stream",
     "text": [
      "Tensor(\"Const_4:0\", shape=(3,), dtype=int32) (3,)\n",
      "Tensor(\"Const_5:0\", shape=(3,), dtype=string)\n"
     ]
    }
   ],
   "source": [
    "from tensorflow.python.framework import ops\n",
    "from tensorflow.python.framework import dtypes\n",
    "\n",
    "a = [1,3,5]\n",
    "b = ['a','b','c']\n",
    "\n",
    "at = ops.convert_to_tensor(a, dtype=dtypes.int32)\n",
    "bt = ops.convert_to_tensor(b, dtype=dtypes.string)\n",
    "\n",
    "print at\n",
    "print bt"
   ]
  },
  {
   "cell_type": "code",
   "execution_count": 13,
   "metadata": {
    "collapsed": false
   },
   "outputs": [
    {
     "name": "stdout",
     "output_type": "stream",
     "text": [
      "[ 0.  1.  2.  3.  4.  5.  6.  7.  8.  9.]\n",
      "[[ 0.  0.  0.  0.]\n",
      " [ 1.  1.  1.  1.]\n",
      " [ 2.  2.  2.  2.]\n",
      " [ 3.  3.  3.  3.]\n",
      " [ 4.  4.  4.  4.]\n",
      " [ 5.  5.  5.  5.]\n",
      " [ 6.  6.  6.  6.]\n",
      " [ 7.  7.  7.  7.]\n",
      " [ 8.  8.  8.  8.]\n",
      " [ 9.  9.  9.  9.]]\n",
      "[[0 1 0]\n",
      " [0 1 0]\n",
      " [0 1 0]\n",
      " [0 1 0]\n",
      " [0 1 0]\n",
      " [0 1 0]\n",
      " [0 1 0]\n",
      " [0 1 0]\n",
      " [0 1 0]\n",
      " [0 1 0]]\n"
     ]
    }
   ],
   "source": [
    "import numpy as np\n",
    "\n",
    "r = np.arange(0.0,10.0)\n",
    "raw_data = np.dstack((r,r,r,r))[0]\n",
    "raw_target = np.array([[0,1,0]]*10)\n",
    "print(r)\n",
    "print(raw_data)\n",
    "print(raw_target)\n"
   ]
  }
 ],
 "metadata": {
  "kernelspec": {
   "display_name": "Python 2",
   "language": "python",
   "name": "python2"
  },
  "language_info": {
   "codemirror_mode": {
    "name": "ipython",
    "version": 2
   },
   "file_extension": ".py",
   "mimetype": "text/x-python",
   "name": "python",
   "nbconvert_exporter": "python",
   "pygments_lexer": "ipython2",
   "version": "2.7.12"
  }
 },
 "nbformat": 4,
 "nbformat_minor": 2
}
